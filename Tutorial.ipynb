{
 "cells": [
  {
   "cell_type": "markdown",
   "metadata": {},
   "source": [
    "## Getting Started"
   ]
  },
  {
   "cell_type": "code",
   "execution_count": 3,
   "metadata": {},
   "outputs": [],
   "source": [
    "import time\n",
    "import numpy as np\n",
    "from fourier_grx_client import RobotClient, ControlGroup\n",
    "from rich.table import Table\n",
    "from rich.console import Console\n",
    "console = Console()\n",
    "print = console.print\n",
    "np.set_printoptions(precision=3, suppress=True)"
   ]
  },
  {
   "cell_type": "markdown",
   "metadata": {},
   "source": [
    "### Start the server on the robot\n",
    "\n",
    "Grx server must be started on the robot torso computer before running the client and sending commands. To start the server on the robot, you need to follow these steps:\n",
    "\n",
    "1. Place the robot in an appropriate position, especially the arms, and switch on the E-stop.\n",
    "\n",
    "2. Start the server on the robot by running the following command on the robot:\n",
    "\n",
    "```bash\n",
    "grx run ./path/to/config --namespace gr/my_awesome_robot\n",
    "```\n",
    "Replace `./path/to/config` with the path to your configuration file. Default configuration files are provided under 'config' directory.\n",
    "\n",
    "Namespace is used to identify the robot when connecting to it from the client. You can replace `my_awesome_robot` with any name you like.\n",
    "\n",
    "\n",
    "\n"
   ]
  },
  {
   "cell_type": "markdown",
   "metadata": {},
   "source": [
    "If the server is successfully started, you should see the following message in the terminal:\n",
    "\n",
    "```\n",
    "2024-09-14 16:32:57 | INFO | #################################\n",
    "2024-09-14 16:32:57 | SUCCESS | RobotServer OK!\n",
    "\n"
   ]
  },
  {
   "cell_type": "markdown",
   "metadata": {},
   "source": [
    "### Start the client \n",
    "\n",
    "After the server is successfully started, you can start the client and connect to the server. In this example, we will assume that the client is running on the same machine as the server. If the client is running on a different machine, you need to specify the IP address of the server.\n",
    "\n",
    "The namespace needs to be aligned with the namespace of that when starting the server. \n"
   ]
  },
  {
   "cell_type": "code",
   "execution_count": 8,
   "metadata": {},
   "outputs": [
    {
     "name": "stderr",
     "output_type": "stream",
     "text": [
      "\u001b[32m2024-10-11 17:39:57.584\u001b[0m | \u001b[1mINFO    \u001b[0m | \u001b[36mfourier_grx_client.client\u001b[0m:\u001b[36m__init__\u001b[0m:\u001b[36m71\u001b[0m - \u001b[1mRobotClient starting...\u001b[0m\n",
      "\u001b[32m2024-10-11 17:39:58.307\u001b[0m | \u001b[1mINFO    \u001b[0m | \u001b[36mfourier_grx_client.client\u001b[0m:\u001b[36mliveness_check\u001b[0m:\u001b[36m540\u001b[0m - \u001b[1mConnected to robot server: {'fourier_core_version': '0.2.4a3', 'fourier_grx_version': '1.0.0a10'}\u001b[0m\n",
      "\u001b[32m2024-10-11 17:39:58.310\u001b[0m | \u001b[1mINFO    \u001b[0m | \u001b[36mfourier_grx_client.client\u001b[0m:\u001b[36m__init__\u001b[0m:\u001b[36m158\u001b[0m - \u001b[1mWaiting for initial states...\u001b[0m\n",
      "\u001b[32m2024-10-11 17:39:58.811\u001b[0m | \u001b[32m\u001b[1mSUCCESS \u001b[0m | \u001b[36mfourier_grx_client.client\u001b[0m:\u001b[36m__init__\u001b[0m:\u001b[36m164\u001b[0m - \u001b[32m\u001b[1mRobotClient started with namespace: gr/my_awesome_robot\u001b[0m\n"
     ]
    }
   ],
   "source": [
    "client= RobotClient(namespace=\"gr/my_awesome_robot\", server_ip=\"localhost\")"
   ]
  },
  {
   "cell_type": "markdown",
   "metadata": {},
   "source": [
    "## Important Concepts\n",
    "\n",
    "### Namespace\n",
    "\n",
    "We use the concept of namespace to avoid name conflicts between different robots.\n",
    "A namespace is a way to group related topics together. It is a prefix that is added to the topic name. For example, if the namespace is `gr/my_awesome_robot`, then the topic name `control` will become `gr/my_awesome_robot/control`.\n",
    "\n",
    "### Joint Orders\n",
    "\n",
    "The robot has 32 joints. All internal representations of the robot's state, commands, and parameters are in the order of these joints. \n",
    "\n",
    "The joint orders for `GR1T2` are as follows:\n",
    "\n",
    "| Index | Joint Name |\n",
    "| --- | --- |\n",
    "| 0 | left_hip_roll_joint |\n",
    "| 1 | left_hip_yaw_joint |\n",
    "| 2 | left_hip_pitch_joint |\n",
    "| 3 | left_knee_pitch_joint |\n",
    "| 4 | left_ankle_pitch_joint |\n",
    "| 5 | left_ankle_roll_joint |\n",
    "| 6 | right_hip_roll_joint |\n",
    "| 7 | right_hip_yaw_joint |\n",
    "| 8 | right_hip_pitch_joint |\n",
    "| 9 | right_knee_pitch_joint |\n",
    "| 10 | right_ankle_pitch_joint |\n",
    "| 11 | right_ankle_roll_joint |\n",
    "| 12 | waist_yaw_joint |\n",
    "| 13 | waist_pitch_joint |\n",
    "| 14 | waist_roll_joint |\n",
    "| 15 | head_pitch_joint |\n",
    "| 16 | head_roll_joint |\n",
    "| 17 | head_yaw_joint |\n",
    "| 18 | left_shoulder_pitch_joint |\n",
    "| 19 | left_shoulder_roll_joint |\n",
    "| 20 | left_shoulder_yaw_joint |\n",
    "| 21 | left_elbow_pitch_joint |\n",
    "| 22 | left_wrist_yaw_joint |\n",
    "| 23 | left_wrist_roll_joint |\n",
    "| 24 | left_wrist_pitch_joint |\n",
    "| 25 | right_shoulder_pitch_joint |\n",
    "| 26 | right_shoulder_roll_joint |\n",
    "| 27 | right_shoulder_yaw_joint |\n",
    "| 28 | right_elbow_pitch_joint |\n",
    "| 29 | right_wrist_yaw_joint |\n",
    "| 30 | right_wrist_roll_joint |\n",
    "| 31 | right_wrist_pitch_joint |\n",
    "\n",
    "\n",
    "### Absolute encoder and `sensor_offset.json`\n",
    "\n",
    "The robot has absolute encoders for joints 0 to 14, AKA the leg joints and the waist joints. The absolute encoders are used to determine the absolute position of the joints. The calibration file `sensor_offset.json` contains the offset values for the absolute encoders. The offset values are used to calibrate the absolute encoders. The calibration file is specific to each robot. Before running the robot, make sure that the calibration file is present in the working directory where the `grx` server is running. "
   ]
  },
  {
   "cell_type": "markdown",
   "metadata": {},
   "source": [
    "## Usage"
   ]
  },
  {
   "cell_type": "markdown",
   "metadata": {},
   "source": [
    "### Calibration\n",
    "\n",
    "For arm and head actuators, the home positons are determiend when switching on the E-stop button, which means you need to place them properly every time you power on the actuators.\n",
    "\n",
    "For waist and leg actuators, the home positions are determined according to the `sensor_offset.json` file. This file is generated by the calibration process and contains the offsets of the encoders. You only need to run the calibration process once, and the `sensor_offset.json` file will be saved to the working directory where the `grx` server is running.\n",
    "\n",
    "Running the following command will execute the calibration of the absolute encoders:\n",
    "\n",
    "```bash\n",
    "grx calibrate --namespace gr/my_awesome_robot --ip 192.168.x.x\n",
    "```\n",
    "\n",
    "Or if you prefer to do it by code, you can use the following code snippet:\n",
    "\n",
    "```python\n",
    "client.calibrate_sensors()\n",
    "```\n",
    "\n"
   ]
  },
  {
   "cell_type": "markdown",
   "metadata": {},
   "source": [
    "### Getting the robot states"
   ]
  },
  {
   "cell_type": "markdown",
   "metadata": {},
   "source": [
    "The robot states can be accessed on the following properties:"
   ]
  },
  {
   "cell_type": "code",
   "execution_count": 3,
   "metadata": {},
   "outputs": [
    {
     "data": {
      "text/html": [
       "<pre style=\"white-space:pre;overflow-x:auto;line-height:normal;font-family:Menlo,'DejaVu Sans Mono',consolas,'Courier New',monospace\">client.<span style=\"color: #808000; text-decoration-color: #808000\">joint_positions</span>=<span style=\"color: #800080; text-decoration-color: #800080; font-weight: bold\">array</span><span style=\"font-weight: bold\">([</span> <span style=\"color: #008080; text-decoration-color: #008080; font-weight: bold\">0</span>.   ,  <span style=\"color: #008080; text-decoration-color: #008080; font-weight: bold\">0</span>.   , <span style=\"color: #008080; text-decoration-color: #008080; font-weight: bold\">-0</span>.   ,  <span style=\"color: #008080; text-decoration-color: #008080; font-weight: bold\">0.001</span>,  <span style=\"color: #008080; text-decoration-color: #008080; font-weight: bold\">0</span>.   , <span style=\"color: #008080; text-decoration-color: #008080; font-weight: bold\">-0.001</span>,  <span style=\"color: #008080; text-decoration-color: #008080; font-weight: bold\">0</span>.   ,  <span style=\"color: #008080; text-decoration-color: #008080; font-weight: bold\">0</span>.   ,\n",
       "       <span style=\"color: #008080; text-decoration-color: #008080; font-weight: bold\">-0.001</span>,  <span style=\"color: #008080; text-decoration-color: #008080; font-weight: bold\">0.001</span>,  <span style=\"color: #008080; text-decoration-color: #008080; font-weight: bold\">0</span>.   ,  <span style=\"color: #008080; text-decoration-color: #008080; font-weight: bold\">0.001</span>,  <span style=\"color: #008080; text-decoration-color: #008080; font-weight: bold\">0</span>.   ,  <span style=\"color: #008080; text-decoration-color: #008080; font-weight: bold\">0</span>.   ,  <span style=\"color: #008080; text-decoration-color: #008080; font-weight: bold\">0</span>.   ,  <span style=\"color: #008080; text-decoration-color: #008080; font-weight: bold\">0.001</span>,\n",
       "       <span style=\"color: #008080; text-decoration-color: #008080; font-weight: bold\">-0.001</span>, <span style=\"color: #008080; text-decoration-color: #008080; font-weight: bold\">-0.061</span>, <span style=\"color: #008080; text-decoration-color: #008080; font-weight: bold\">-0.004</span>, <span style=\"color: #008080; text-decoration-color: #008080; font-weight: bold\">-0.027</span>, <span style=\"color: #008080; text-decoration-color: #008080; font-weight: bold\">-0</span>.   ,  <span style=\"color: #008080; text-decoration-color: #008080; font-weight: bold\">0</span>.   ,  <span style=\"color: #008080; text-decoration-color: #008080; font-weight: bold\">0</span>.   ,  <span style=\"color: #008080; text-decoration-color: #008080; font-weight: bold\">0.032</span>,\n",
       "        <span style=\"color: #008080; text-decoration-color: #008080; font-weight: bold\">0.05</span> , <span style=\"color: #008080; text-decoration-color: #008080; font-weight: bold\">-0.09</span> ,  <span style=\"color: #008080; text-decoration-color: #008080; font-weight: bold\">0.007</span>,  <span style=\"color: #008080; text-decoration-color: #008080; font-weight: bold\">0</span>.   ,  <span style=\"color: #008080; text-decoration-color: #008080; font-weight: bold\">0</span>.   , <span style=\"color: #008080; text-decoration-color: #008080; font-weight: bold\">-0.178</span>,  <span style=\"color: #008080; text-decoration-color: #008080; font-weight: bold\">0.045</span>, <span style=\"color: #008080; text-decoration-color: #008080; font-weight: bold\">-0.015</span><span style=\"font-weight: bold\">])</span>\n",
       "</pre>\n"
      ],
      "text/plain": [
       "client.\u001b[33mjoint_positions\u001b[0m=\u001b[1;35marray\u001b[0m\u001b[1m(\u001b[0m\u001b[1m[\u001b[0m \u001b[1;36m0\u001b[0m.   ,  \u001b[1;36m0\u001b[0m.   , \u001b[1;36m-0\u001b[0m.   ,  \u001b[1;36m0.001\u001b[0m,  \u001b[1;36m0\u001b[0m.   , \u001b[1;36m-0.001\u001b[0m,  \u001b[1;36m0\u001b[0m.   ,  \u001b[1;36m0\u001b[0m.   ,\n",
       "       \u001b[1;36m-0.001\u001b[0m,  \u001b[1;36m0.001\u001b[0m,  \u001b[1;36m0\u001b[0m.   ,  \u001b[1;36m0.001\u001b[0m,  \u001b[1;36m0\u001b[0m.   ,  \u001b[1;36m0\u001b[0m.   ,  \u001b[1;36m0\u001b[0m.   ,  \u001b[1;36m0.001\u001b[0m,\n",
       "       \u001b[1;36m-0.001\u001b[0m, \u001b[1;36m-0.061\u001b[0m, \u001b[1;36m-0.004\u001b[0m, \u001b[1;36m-0.027\u001b[0m, \u001b[1;36m-0\u001b[0m.   ,  \u001b[1;36m0\u001b[0m.   ,  \u001b[1;36m0\u001b[0m.   ,  \u001b[1;36m0.032\u001b[0m,\n",
       "        \u001b[1;36m0.05\u001b[0m , \u001b[1;36m-0.09\u001b[0m ,  \u001b[1;36m0.007\u001b[0m,  \u001b[1;36m0\u001b[0m.   ,  \u001b[1;36m0\u001b[0m.   , \u001b[1;36m-0.178\u001b[0m,  \u001b[1;36m0.045\u001b[0m, \u001b[1;36m-0.015\u001b[0m\u001b[1m]\u001b[0m\u001b[1m)\u001b[0m\n"
      ]
     },
     "metadata": {},
     "output_type": "display_data"
    },
    {
     "data": {
      "text/html": [
       "<pre style=\"white-space:pre;overflow-x:auto;line-height:normal;font-family:Menlo,'DejaVu Sans Mono',consolas,'Courier New',monospace\">client.<span style=\"color: #808000; text-decoration-color: #808000\">joint_velocity</span>=<span style=\"color: #800080; text-decoration-color: #800080; font-weight: bold\">array</span><span style=\"font-weight: bold\">([</span><span style=\"color: #008080; text-decoration-color: #008080; font-weight: bold\">-0.001</span>, <span style=\"color: #008080; text-decoration-color: #008080; font-weight: bold\">-0.002</span>, <span style=\"color: #008080; text-decoration-color: #008080; font-weight: bold\">-0.008</span>,  <span style=\"color: #008080; text-decoration-color: #008080; font-weight: bold\">0.007</span>, <span style=\"color: #008080; text-decoration-color: #008080; font-weight: bold\">-0.001</span>,  <span style=\"color: #008080; text-decoration-color: #008080; font-weight: bold\">0.003</span>,  <span style=\"color: #008080; text-decoration-color: #008080; font-weight: bold\">0.001</span>,  <span style=\"color: #008080; text-decoration-color: #008080; font-weight: bold\">0.001</span>,\n",
       "        <span style=\"color: #008080; text-decoration-color: #008080; font-weight: bold\">0.001</span>, <span style=\"color: #008080; text-decoration-color: #008080; font-weight: bold\">-0.001</span>, <span style=\"color: #008080; text-decoration-color: #008080; font-weight: bold\">-0.001</span>,  <span style=\"color: #008080; text-decoration-color: #008080; font-weight: bold\">0.003</span>, <span style=\"color: #008080; text-decoration-color: #008080; font-weight: bold\">-0</span>.   ,  <span style=\"color: #008080; text-decoration-color: #008080; font-weight: bold\">0.001</span>, <span style=\"color: #008080; text-decoration-color: #008080; font-weight: bold\">-0.002</span>,  <span style=\"color: #008080; text-decoration-color: #008080; font-weight: bold\">0.001</span>,\n",
       "       <span style=\"color: #008080; text-decoration-color: #008080; font-weight: bold\">-0.004</span>, <span style=\"color: #008080; text-decoration-color: #008080; font-weight: bold\">-0</span>.   ,  <span style=\"color: #008080; text-decoration-color: #008080; font-weight: bold\">0.001</span>, <span style=\"color: #008080; text-decoration-color: #008080; font-weight: bold\">-0</span>.   ,  <span style=\"color: #008080; text-decoration-color: #008080; font-weight: bold\">0</span>.   , <span style=\"color: #008080; text-decoration-color: #008080; font-weight: bold\">-0</span>.   ,  <span style=\"color: #008080; text-decoration-color: #008080; font-weight: bold\">0.001</span>,  <span style=\"color: #008080; text-decoration-color: #008080; font-weight: bold\">0.002</span>,\n",
       "        <span style=\"color: #008080; text-decoration-color: #008080; font-weight: bold\">0.001</span>,  <span style=\"color: #008080; text-decoration-color: #008080; font-weight: bold\">0</span>.   , <span style=\"color: #008080; text-decoration-color: #008080; font-weight: bold\">-0</span>.   ,  <span style=\"color: #008080; text-decoration-color: #008080; font-weight: bold\">0</span>.   , <span style=\"color: #008080; text-decoration-color: #008080; font-weight: bold\">-0</span>.   , <span style=\"color: #008080; text-decoration-color: #008080; font-weight: bold\">-0.001</span>, <span style=\"color: #008080; text-decoration-color: #008080; font-weight: bold\">-0</span>.   , <span style=\"color: #008080; text-decoration-color: #008080; font-weight: bold\">-0.001</span><span style=\"font-weight: bold\">])</span>\n",
       "</pre>\n"
      ],
      "text/plain": [
       "client.\u001b[33mjoint_velocity\u001b[0m=\u001b[1;35marray\u001b[0m\u001b[1m(\u001b[0m\u001b[1m[\u001b[0m\u001b[1;36m-0.001\u001b[0m, \u001b[1;36m-0.002\u001b[0m, \u001b[1;36m-0.008\u001b[0m,  \u001b[1;36m0.007\u001b[0m, \u001b[1;36m-0.001\u001b[0m,  \u001b[1;36m0.003\u001b[0m,  \u001b[1;36m0.001\u001b[0m,  \u001b[1;36m0.001\u001b[0m,\n",
       "        \u001b[1;36m0.001\u001b[0m, \u001b[1;36m-0.001\u001b[0m, \u001b[1;36m-0.001\u001b[0m,  \u001b[1;36m0.003\u001b[0m, \u001b[1;36m-0\u001b[0m.   ,  \u001b[1;36m0.001\u001b[0m, \u001b[1;36m-0.002\u001b[0m,  \u001b[1;36m0.001\u001b[0m,\n",
       "       \u001b[1;36m-0.004\u001b[0m, \u001b[1;36m-0\u001b[0m.   ,  \u001b[1;36m0.001\u001b[0m, \u001b[1;36m-0\u001b[0m.   ,  \u001b[1;36m0\u001b[0m.   , \u001b[1;36m-0\u001b[0m.   ,  \u001b[1;36m0.001\u001b[0m,  \u001b[1;36m0.002\u001b[0m,\n",
       "        \u001b[1;36m0.001\u001b[0m,  \u001b[1;36m0\u001b[0m.   , \u001b[1;36m-0\u001b[0m.   ,  \u001b[1;36m0\u001b[0m.   , \u001b[1;36m-0\u001b[0m.   , \u001b[1;36m-0.001\u001b[0m, \u001b[1;36m-0\u001b[0m.   , \u001b[1;36m-0.001\u001b[0m\u001b[1m]\u001b[0m\u001b[1m)\u001b[0m\n"
      ]
     },
     "metadata": {},
     "output_type": "display_data"
    },
    {
     "data": {
      "text/html": [
       "<pre style=\"white-space:pre;overflow-x:auto;line-height:normal;font-family:Menlo,'DejaVu Sans Mono',consolas,'Courier New',monospace\">client.<span style=\"color: #808000; text-decoration-color: #808000\">joint_current</span>=<span style=\"color: #800080; text-decoration-color: #800080; font-weight: bold\">array</span><span style=\"font-weight: bold\">([</span> <span style=\"color: #008080; text-decoration-color: #008080; font-weight: bold\">0.023</span>, <span style=\"color: #008080; text-decoration-color: #008080; font-weight: bold\">-0.026</span>, <span style=\"color: #008080; text-decoration-color: #008080; font-weight: bold\">-0.024</span>,  <span style=\"color: #008080; text-decoration-color: #008080; font-weight: bold\">0.225</span>,  <span style=\"color: #008080; text-decoration-color: #008080; font-weight: bold\">0.002</span>, <span style=\"color: #008080; text-decoration-color: #008080; font-weight: bold\">-0.006</span>,  <span style=\"color: #008080; text-decoration-color: #008080; font-weight: bold\">0.007</span>, <span style=\"color: #008080; text-decoration-color: #008080; font-weight: bold\">-0.05</span> ,\n",
       "        <span style=\"color: #008080; text-decoration-color: #008080; font-weight: bold\">0.108</span>, <span style=\"color: #008080; text-decoration-color: #008080; font-weight: bold\">-0.151</span>, <span style=\"color: #008080; text-decoration-color: #008080; font-weight: bold\">-0.004</span>, <span style=\"color: #008080; text-decoration-color: #008080; font-weight: bold\">-0.005</span>,  <span style=\"color: #008080; text-decoration-color: #008080; font-weight: bold\">0.002</span>,  <span style=\"color: #008080; text-decoration-color: #008080; font-weight: bold\">0.021</span>, <span style=\"color: #008080; text-decoration-color: #008080; font-weight: bold\">-0.005</span>, <span style=\"color: #008080; text-decoration-color: #008080; font-weight: bold\">-0.002</span>,\n",
       "       <span style=\"color: #008080; text-decoration-color: #008080; font-weight: bold\">-0.014</span>, <span style=\"color: #008080; text-decoration-color: #008080; font-weight: bold\">-0.019</span>, <span style=\"color: #008080; text-decoration-color: #008080; font-weight: bold\">-0.001</span>,  <span style=\"color: #008080; text-decoration-color: #008080; font-weight: bold\">0.01</span> ,  <span style=\"color: #008080; text-decoration-color: #008080; font-weight: bold\">0.008</span>,  <span style=\"color: #008080; text-decoration-color: #008080; font-weight: bold\">0.02</span> ,  <span style=\"color: #008080; text-decoration-color: #008080; font-weight: bold\">0.006</span>, <span style=\"color: #008080; text-decoration-color: #008080; font-weight: bold\">-0.003</span>,\n",
       "       <span style=\"color: #008080; text-decoration-color: #008080; font-weight: bold\">-0.026</span>,  <span style=\"color: #008080; text-decoration-color: #008080; font-weight: bold\">0.006</span>,  <span style=\"color: #008080; text-decoration-color: #008080; font-weight: bold\">0.004</span>,  <span style=\"color: #008080; text-decoration-color: #008080; font-weight: bold\">0.005</span>, <span style=\"color: #008080; text-decoration-color: #008080; font-weight: bold\">-0.002</span>,  <span style=\"color: #008080; text-decoration-color: #008080; font-weight: bold\">0.004</span>,  <span style=\"color: #008080; text-decoration-color: #008080; font-weight: bold\">0.005</span>,  <span style=\"color: #008080; text-decoration-color: #008080; font-weight: bold\">0.019</span><span style=\"font-weight: bold\">])</span>\n",
       "</pre>\n"
      ],
      "text/plain": [
       "client.\u001b[33mjoint_current\u001b[0m=\u001b[1;35marray\u001b[0m\u001b[1m(\u001b[0m\u001b[1m[\u001b[0m \u001b[1;36m0.023\u001b[0m, \u001b[1;36m-0.026\u001b[0m, \u001b[1;36m-0.024\u001b[0m,  \u001b[1;36m0.225\u001b[0m,  \u001b[1;36m0.002\u001b[0m, \u001b[1;36m-0.006\u001b[0m,  \u001b[1;36m0.007\u001b[0m, \u001b[1;36m-0.05\u001b[0m ,\n",
       "        \u001b[1;36m0.108\u001b[0m, \u001b[1;36m-0.151\u001b[0m, \u001b[1;36m-0.004\u001b[0m, \u001b[1;36m-0.005\u001b[0m,  \u001b[1;36m0.002\u001b[0m,  \u001b[1;36m0.021\u001b[0m, \u001b[1;36m-0.005\u001b[0m, \u001b[1;36m-0.002\u001b[0m,\n",
       "       \u001b[1;36m-0.014\u001b[0m, \u001b[1;36m-0.019\u001b[0m, \u001b[1;36m-0.001\u001b[0m,  \u001b[1;36m0.01\u001b[0m ,  \u001b[1;36m0.008\u001b[0m,  \u001b[1;36m0.02\u001b[0m ,  \u001b[1;36m0.006\u001b[0m, \u001b[1;36m-0.003\u001b[0m,\n",
       "       \u001b[1;36m-0.026\u001b[0m,  \u001b[1;36m0.006\u001b[0m,  \u001b[1;36m0.004\u001b[0m,  \u001b[1;36m0.005\u001b[0m, \u001b[1;36m-0.002\u001b[0m,  \u001b[1;36m0.004\u001b[0m,  \u001b[1;36m0.005\u001b[0m,  \u001b[1;36m0.019\u001b[0m\u001b[1m]\u001b[0m\u001b[1m)\u001b[0m\n"
      ]
     },
     "metadata": {},
     "output_type": "display_data"
    },
    {
     "data": {
      "text/html": [
       "<pre style=\"white-space:pre;overflow-x:auto;line-height:normal;font-family:Menlo,'DejaVu Sans Mono',consolas,'Courier New',monospace\">client.<span style=\"color: #808000; text-decoration-color: #808000\">joint_effort</span>=<span style=\"color: #800080; text-decoration-color: #800080; font-weight: bold\">array</span><span style=\"font-weight: bold\">([</span> <span style=\"color: #008080; text-decoration-color: #008080; font-weight: bold\">0.087</span>, <span style=\"color: #008080; text-decoration-color: #008080; font-weight: bold\">-0.089</span>, <span style=\"color: #008080; text-decoration-color: #008080; font-weight: bold\">-0.043</span>,  <span style=\"color: #008080; text-decoration-color: #008080; font-weight: bold\">0.409</span>, <span style=\"color: #008080; text-decoration-color: #008080; font-weight: bold\">-0.009</span>,  <span style=\"color: #008080; text-decoration-color: #008080; font-weight: bold\">0.009</span>,  <span style=\"color: #008080; text-decoration-color: #008080; font-weight: bold\">0.027</span>, <span style=\"color: #008080; text-decoration-color: #008080; font-weight: bold\">-0.17</span> ,\n",
       "        <span style=\"color: #008080; text-decoration-color: #008080; font-weight: bold\">0.197</span>, <span style=\"color: #008080; text-decoration-color: #008080; font-weight: bold\">-0.274</span>, <span style=\"color: #008080; text-decoration-color: #008080; font-weight: bold\">-0.02</span> , <span style=\"color: #008080; text-decoration-color: #008080; font-weight: bold\">-0.001</span>,  <span style=\"color: #008080; text-decoration-color: #008080; font-weight: bold\">0.008</span>,  <span style=\"color: #008080; text-decoration-color: #008080; font-weight: bold\">0.072</span>, <span style=\"color: #008080; text-decoration-color: #008080; font-weight: bold\">-0.019</span>, <span style=\"color: #008080; text-decoration-color: #008080; font-weight: bold\">-0.049</span>,\n",
       "        <span style=\"color: #008080; text-decoration-color: #008080; font-weight: bold\">0.024</span>, <span style=\"color: #008080; text-decoration-color: #008080; font-weight: bold\">-0.059</span>, <span style=\"color: #008080; text-decoration-color: #008080; font-weight: bold\">-0.003</span>,  <span style=\"color: #008080; text-decoration-color: #008080; font-weight: bold\">0.049</span>,  <span style=\"color: #008080; text-decoration-color: #008080; font-weight: bold\">0.05</span> ,  <span style=\"color: #008080; text-decoration-color: #008080; font-weight: bold\">0.117</span>,  <span style=\"color: #008080; text-decoration-color: #008080; font-weight: bold\">0.012</span>,  <span style=\"color: #008080; text-decoration-color: #008080; font-weight: bold\">0.043</span>,\n",
       "       <span style=\"color: #008080; text-decoration-color: #008080; font-weight: bold\">-0.03</span> ,  <span style=\"color: #008080; text-decoration-color: #008080; font-weight: bold\">0.029</span>,  <span style=\"color: #008080; text-decoration-color: #008080; font-weight: bold\">0.021</span>,  <span style=\"color: #008080; text-decoration-color: #008080; font-weight: bold\">0.028</span>, <span style=\"color: #008080; text-decoration-color: #008080; font-weight: bold\">-0.012</span>,  <span style=\"color: #008080; text-decoration-color: #008080; font-weight: bold\">0.007</span>,  <span style=\"color: #008080; text-decoration-color: #008080; font-weight: bold\">0.026</span>, <span style=\"color: #008080; text-decoration-color: #008080; font-weight: bold\">-0.025</span><span style=\"font-weight: bold\">])</span>\n",
       "</pre>\n"
      ],
      "text/plain": [
       "client.\u001b[33mjoint_effort\u001b[0m=\u001b[1;35marray\u001b[0m\u001b[1m(\u001b[0m\u001b[1m[\u001b[0m \u001b[1;36m0.087\u001b[0m, \u001b[1;36m-0.089\u001b[0m, \u001b[1;36m-0.043\u001b[0m,  \u001b[1;36m0.409\u001b[0m, \u001b[1;36m-0.009\u001b[0m,  \u001b[1;36m0.009\u001b[0m,  \u001b[1;36m0.027\u001b[0m, \u001b[1;36m-0.17\u001b[0m ,\n",
       "        \u001b[1;36m0.197\u001b[0m, \u001b[1;36m-0.274\u001b[0m, \u001b[1;36m-0.02\u001b[0m , \u001b[1;36m-0.001\u001b[0m,  \u001b[1;36m0.008\u001b[0m,  \u001b[1;36m0.072\u001b[0m, \u001b[1;36m-0.019\u001b[0m, \u001b[1;36m-0.049\u001b[0m,\n",
       "        \u001b[1;36m0.024\u001b[0m, \u001b[1;36m-0.059\u001b[0m, \u001b[1;36m-0.003\u001b[0m,  \u001b[1;36m0.049\u001b[0m,  \u001b[1;36m0.05\u001b[0m ,  \u001b[1;36m0.117\u001b[0m,  \u001b[1;36m0.012\u001b[0m,  \u001b[1;36m0.043\u001b[0m,\n",
       "       \u001b[1;36m-0.03\u001b[0m ,  \u001b[1;36m0.029\u001b[0m,  \u001b[1;36m0.021\u001b[0m,  \u001b[1;36m0.028\u001b[0m, \u001b[1;36m-0.012\u001b[0m,  \u001b[1;36m0.007\u001b[0m,  \u001b[1;36m0.026\u001b[0m, \u001b[1;36m-0.025\u001b[0m\u001b[1m]\u001b[0m\u001b[1m)\u001b[0m\n"
      ]
     },
     "metadata": {},
     "output_type": "display_data"
    }
   ],
   "source": [
    "print(f\"{client.joint_positions=}\")\n",
    "print(f\"{client.joint_velocity=}\")\n",
    "print(f\"{client.joint_current=}\")\n",
    "print(f\"{client.joint_effort=}\")"
   ]
  },
  {
   "cell_type": "markdown",
   "metadata": {},
   "source": [
    "The above are the convenient methods to access the robot states. However, the robot states can also be accessed directly from the `client.states` dictionary. We can inspect it to find the available states:"
   ]
  },
  {
   "cell_type": "code",
   "execution_count": 4,
   "metadata": {},
   "outputs": [
    {
     "data": {
      "text/html": [
       "<pre style=\"white-space:pre;overflow-x:auto;line-height:normal;font-family:Menlo,'DejaVu Sans Mono',consolas,'Courier New',monospace\"><span style=\"font-style: italic\">                                  Current 🤖 states (in radians)                                  </span>\n",
       "┏━━━━━━━━━━━━━━━━━━━━━━━┳━━━━━━━━━━━━━━━━━━━━━━━━━━━━━━━━━━━━━━━━━━━━━━━━━━━━━━━━━━━━━━━━━━━━━━━━┓\n",
       "┃<span style=\"font-weight: bold\"> Type                  </span>┃<span style=\"font-weight: bold\"> Data                                                                   </span>┃\n",
       "┡━━━━━━━━━━━━━━━━━━━━━━━╇━━━━━━━━━━━━━━━━━━━━━━━━━━━━━━━━━━━━━━━━━━━━━━━━━━━━━━━━━━━━━━━━━━━━━━━━┩\n",
       "│ imu/quat              │ [-0. -0. -0.  0.]                                                      │\n",
       "│ imu/euler_angle       │ [ 3.142 -0.     0.   ]                                                 │\n",
       "│ imu/angular_velocity  │ [ 0.  0. -0.]                                                          │\n",
       "│ imu/acceleration      │ [-0. -0.  0.]                                                          │\n",
       "│ joint/position        │ [ 0.     0.    -0.     0.001  0.    -0.001  0.     0.    -0.001  0.001 │\n",
       "│                       │   0.     0.001  0.     0.     0.     0.001 -0.001 -0.061 -0.004 -0.027 │\n",
       "│                       │   0.     0.     0.     0.032  0.05  -0.09   0.007  0.     0.    -0.178 │\n",
       "│                       │   0.045 -0.015]                                                        │\n",
       "│ joint/velocity        │ [-0.001 -0.003  0.013  0.005  0.     0.002  0.001  0.    -0.013 -0.006 │\n",
       "│                       │   0.001 -0.001 -0.     0.002 -0.003 -0.001  0.001  0.     0.001  0.    │\n",
       "│                       │   0.     0.     0.002  0.     0.002  0.     0.     0.     0.     0.004 │\n",
       "│                       │   0.    -0.001]                                                        │\n",
       "│ joint/effort          │ [ 0.002 -0.002 -0.001  0.007 -0.     0.     0.    -0.003  0.003 -0.005 │\n",
       "│                       │  -0.    -0.     0.     0.001 -0.    -0.001  0.    -0.001 -0.     0.001 │\n",
       "│                       │   0.001  0.002  0.     0.001 -0.001  0.001  0.     0.    -0.     0.    │\n",
       "│                       │   0.    -0.   ]                                                        │\n",
       "│ joint/current         │ [ 0.    -0.    -0.     0.004  0.    -0.     0.    -0.001  0.002 -0.003 │\n",
       "│                       │  -0.    -0.     0.     0.    -0.    -0.    -0.    -0.    -0.     0.    │\n",
       "│                       │   0.     0.     0.    -0.    -0.     0.     0.     0.    -0.     0.    │\n",
       "│                       │   0.     0.   ]                                                        │\n",
       "│ base/estimate_xyz     │ [0.    0.    0.016]                                                    │\n",
       "│ base/estimate_xyz_vel │ [0. 0. 0.]                                                             │\n",
       "└───────────────────────┴────────────────────────────────────────────────────────────────────────┘\n",
       "</pre>\n"
      ],
      "text/plain": [
       "\u001b[3m                                  Current 🤖 states (in radians)                                  \u001b[0m\n",
       "┏━━━━━━━━━━━━━━━━━━━━━━━┳━━━━━━━━━━━━━━━━━━━━━━━━━━━━━━━━━━━━━━━━━━━━━━━━━━━━━━━━━━━━━━━━━━━━━━━━┓\n",
       "┃\u001b[1m \u001b[0m\u001b[1mType                 \u001b[0m\u001b[1m \u001b[0m┃\u001b[1m \u001b[0m\u001b[1mData                                                                  \u001b[0m\u001b[1m \u001b[0m┃\n",
       "┡━━━━━━━━━━━━━━━━━━━━━━━╇━━━━━━━━━━━━━━━━━━━━━━━━━━━━━━━━━━━━━━━━━━━━━━━━━━━━━━━━━━━━━━━━━━━━━━━━┩\n",
       "│ imu/quat              │ [-0. -0. -0.  0.]                                                      │\n",
       "│ imu/euler_angle       │ [ 3.142 -0.     0.   ]                                                 │\n",
       "│ imu/angular_velocity  │ [ 0.  0. -0.]                                                          │\n",
       "│ imu/acceleration      │ [-0. -0.  0.]                                                          │\n",
       "│ joint/position        │ [ 0.     0.    -0.     0.001  0.    -0.001  0.     0.    -0.001  0.001 │\n",
       "│                       │   0.     0.001  0.     0.     0.     0.001 -0.001 -0.061 -0.004 -0.027 │\n",
       "│                       │   0.     0.     0.     0.032  0.05  -0.09   0.007  0.     0.    -0.178 │\n",
       "│                       │   0.045 -0.015]                                                        │\n",
       "│ joint/velocity        │ [-0.001 -0.003  0.013  0.005  0.     0.002  0.001  0.    -0.013 -0.006 │\n",
       "│                       │   0.001 -0.001 -0.     0.002 -0.003 -0.001  0.001  0.     0.001  0.    │\n",
       "│                       │   0.     0.     0.002  0.     0.002  0.     0.     0.     0.     0.004 │\n",
       "│                       │   0.    -0.001]                                                        │\n",
       "│ joint/effort          │ [ 0.002 -0.002 -0.001  0.007 -0.     0.     0.    -0.003  0.003 -0.005 │\n",
       "│                       │  -0.    -0.     0.     0.001 -0.    -0.001  0.    -0.001 -0.     0.001 │\n",
       "│                       │   0.001  0.002  0.     0.001 -0.001  0.001  0.     0.    -0.     0.    │\n",
       "│                       │   0.    -0.   ]                                                        │\n",
       "│ joint/current         │ [ 0.    -0.    -0.     0.004  0.    -0.     0.    -0.001  0.002 -0.003 │\n",
       "│                       │  -0.    -0.     0.     0.    -0.    -0.    -0.    -0.    -0.     0.    │\n",
       "│                       │   0.     0.     0.    -0.    -0.     0.     0.     0.    -0.     0.    │\n",
       "│                       │   0.     0.   ]                                                        │\n",
       "│ base/estimate_xyz     │ [0.    0.    0.016]                                                    │\n",
       "│ base/estimate_xyz_vel │ [0. 0. 0.]                                                             │\n",
       "└───────────────────────┴────────────────────────────────────────────────────────────────────────┘\n"
      ]
     },
     "metadata": {},
     "output_type": "display_data"
    }
   ],
   "source": [
    "table = Table(\"Type\", \"Data\", title=\"Current :robot: states (in radians)\")\n",
    "for sensor_type, sensor_data in client.states.items():\n",
    "    sensor_value = (\n",
    "        str(np.round(np.deg2rad(sensor_reading), 3)) \n",
    "        if sensor_type == \"joint\" and sensor_name in [\"position\", \"velocity\"] \n",
    "        else str(np.round(sensor_reading, 3)))\n",
    "    for sensor_name, sensor_reading in sensor_data.items():\n",
    "        table.add_row(\n",
    "            sensor_type + \"/\" + sensor_name,\n",
    "            sensor_value,\n",
    "        )\n",
    "print(table)"
   ]
  },
  {
   "cell_type": "markdown",
   "metadata": {},
   "source": [
    "### Enabling and disabling the robot"
   ]
  },
  {
   "cell_type": "markdown",
   "metadata": {},
   "source": [
    "Now, to actually drive the robot, we need to first enable it:"
   ]
  },
  {
   "cell_type": "code",
   "execution_count": 5,
   "metadata": {},
   "outputs": [],
   "source": [
    "client.enable()"
   ]
  },
  {
   "cell_type": "markdown",
   "metadata": {},
   "source": [
    "After enabling the robot, you can hear the robot's motors turning on. To disable it, just run:\n",
    "\n",
    "```python\n",
    "client.disable()\n",
    "```"
   ]
  },
  {
   "cell_type": "code",
   "execution_count": 6,
   "metadata": {},
   "outputs": [],
   "source": [
    "client.disable()"
   ]
  },
  {
   "cell_type": "markdown",
   "metadata": {},
   "source": [
    "### Setting and getting joint gains\n",
    "\n",
    "Before we can control the robot, we need to set the joint gains. The joint gains are the parameters that control how the robot's joints respond to the commands. The joint gains can be set using the `client.set_gains` method. The method takes the following arguments:\n",
    "\n",
    "```python\n",
    "def set_gains(\n",
    "        self,\n",
    "        position_control_kp: list[float] | None = None,\n",
    "        velocity_control_kp: list[float] | None = None,\n",
    "        velocity_control_ki: list[float] | None = None,\n",
    "        pd_control_kp: list[float] | None = None,\n",
    "        pd_control_kd: list[float] | None = None,\n",
    "    ):\n",
    "    ...\n",
    "``` \n",
    "Where each of the arguments is a list of floats representing the gains for each joint. The gains are in the same order as the joints in the robot. For example, to set the position control gains kp for all joints to 1.0, you can run:\n",
    "\n",
    "```python\n",
    "client.set_gains(position_control_kp=[1.0]*32)\n",
    "```"
   ]
  },
  {
   "cell_type": "markdown",
   "metadata": {},
   "source": [
    "You can get the gains using the 'get_gains' method. \n",
    "\n",
    "Here's an example:"
   ]
  },
  {
   "cell_type": "code",
   "execution_count": null,
   "metadata": {},
   "outputs": [],
   "source": [
    "print(client.get_gains())"
   ]
  },
  {
   "cell_type": "markdown",
   "metadata": {},
   "source": [
    "### Moving joint positions\n",
    "\n",
    "After enabling the actuators, we can move the joints to a desired position using the `move_joints()` method.\n",
    "\n",
    "The method takes the following arguments:\n",
    "```python\n",
    "    def move_joints(\n",
    "        self,\n",
    "        group: ControlGroup | list | str,\n",
    "        positions: np.ndarray | list,\n",
    "        duration: float = 0.0,\n",
    "        degrees: bool = False,\n",
    "        blocking: bool = True,\n",
    "    ):\n",
    "```\n",
    "Args:\n",
    "    group (ControlGroup | list | str): The group of joints to move, specified by a string or a ControlGroup enum, or a list of joint indices.\n",
    "    positions (np.ndarray[float]): target joint position in degrees.\n",
    "    duration (float, optional): Time duration in seconds. If set to 0, the joints will move in their maximum speed without interpolation. Defaults to 0.0.\n",
    "    degrees (bool, optional): Whether the joint positions are in degrees. Defaults to False.\n",
    "    blocking (bool, optional): If True, block until the move is completed. Defaults to True.\n",
    "\n",
    "Here's some examples of moving the joints to a position:\n"
   ]
  },
  {
   "cell_type": "code",
   "execution_count": null,
   "metadata": {},
   "outputs": [],
   "source": [
    "\n",
    "client.move_joints(ControlGroup.LEFT_ARM, [0, 0, 0, 20, 0, 0, 0], duration=2, degrees=True)"
   ]
  },
  {
   "cell_type": "code",
   "execution_count": null,
   "metadata": {},
   "outputs": [],
   "source": [
    "client.move_joints([18, 19], [-0.17, 0.17], degrees=False)"
   ]
  },
  {
   "cell_type": "code",
   "execution_count": null,
   "metadata": {},
   "outputs": [],
   "source": [
    "client.move_joints(\"left_arm\", [0, 0, 0, 20, 0, 0, 0], degrees=True)"
   ]
  },
  {
   "cell_type": "markdown",
   "metadata": {},
   "source": [
    "### Kinematics\n",
    "\n",
    "#### Forwards Kinematics:\n",
    "The method takes the following arguments:\n",
    "```python\n",
    "    def forward_kinematics(self, chain_names: list[str], q: np.ndarray | None = None):\n",
    "``` \n",
    "Args:\n",
    "\n",
    "    chain_names (list[str]): The chains to get the end effector pose of. Available chain names: 'head', 'left_arm', 'right_arm'.\n",
    "\n",
    "    q (np.ndarray, optional): The robot confiuration to do forward kinematics in. Defaults to None.\n",
    "\n",
    "Returns:\n",
    "\n",
    "    list: The end effector pose is a list of 4x4 transformation matrices. The order of the matrices is the same as the order of the chain names.\n",
    "\n",
    "This method takes in a list of chain names and a robot configuration `q` and returns the end effector pose of the specified chains.\n",
    "\n",
    "The available chain names are: `head`, `left_arm`, `right_arm`, with corresponding end effector frames: `head_yaw_link`, `left_end_effector_link`, `right_end_effector_link`, and the transformation matrices are in the `torso_link` frame.\n",
    "\n",
    "#### Inverse Kinematics:\n",
    "The method takes the following arguments:\n",
    "```python\n",
    "    def inverse_kinematics(\n",
    "        self,\n",
    "        chain_names: list[str],\n",
    "        targets: list[np.ndarray],\n",
    "        move=False,\n",
    "        dt: float = 0.01,\n",
    "        velocity_scaling_factor: float = 1.0,\n",
    "        convergence_threshold: float = 10,\n",
    "    ):\n",
    "``` \n",
    "Args:\n",
    "\n",
    "    chain_names (list[str]): The chains to get the joint positions for. Available chain names: 'head', 'left_arm', 'right_arm'.\n",
    "\n",
    "    targets (list[np.ndarray]): The target poses in form of 4x4 transformation matrices or xyz-quaternion vectors. \n",
    "\n",
    "    move (bool, optional): Whether to move the robot to the target pose. Defaults to False.\n",
    "\n",
    "    dt (float, optional): The time step for the inverse kinematics.\n",
    "\n",
    "    velocity_scaling_factor (float, optional): The scaling factor for the joint velocities. Defaults to 1.0.\n",
    "\n",
    "    convergence_threshold (float, optional): The convergence threshold for the joint positions. Defaults to 10.\n",
    "\n",
    "Returns:\n",
    "\n",
    "    np.ndarray: The joint positions to reach the target pose (in radians).\n",
    "\n",
    "This method is used to calculate the joint positions to reach the target pose for the specified chains. \n",
    "\n",
    "Here is an example of how to use the forward and inverse kinematics method:\n",
    "\n",
    "\n",
    " "
   ]
  },
  {
   "cell_type": "code",
   "execution_count": 28,
   "metadata": {},
   "outputs": [],
   "source": [
    "# Obtain the current transform matrix of the left arm end-effector from the returned list.\n",
    "curr_transform = client.forward_kinematics(chain_names=[\"left_arm\"])[0]"
   ]
  },
  {
   "cell_type": "code",
   "execution_count": 3,
   "metadata": {},
   "outputs": [],
   "source": [
    "# Set the transform matrix of the target pose.\n",
    "target_transform = np.array([[ 0.225, -0.426, -0.877,  0.192],\n",
    "        [-0.106,  0.884, -0.456,  0.46 ],\n",
    "        [ 0.969,  0.195,  0.153, -0.238],\n",
    "        [ 0.   ,  0.   ,  0.   ,  1.   ]])"
   ]
  },
  {
   "cell_type": "code",
   "execution_count": 4,
   "metadata": {},
   "outputs": [],
   "source": [
    "client.enable()"
   ]
  },
  {
   "cell_type": "code",
   "execution_count": 30,
   "metadata": {},
   "outputs": [
    {
     "data": {
      "text/plain": [
       "array([ 0.   ,  0.   ,  0.   ,  0.   ,  0.   , -0.   ,  0.   ,  0.   ,\n",
       "        0.   ,  0.   ,  0.   , -0.   ,  0.209, -0.   ,  0.007, -0.006,\n",
       "        0.01 , -0.   , -0.221,  0.191,  1.053, -0.919, -0.468, -0.364,\n",
       "       -0.343,  0.226,  0.035,  0.204, -1.181,  1.424, -0.09 , -0.024])"
      ]
     },
     "execution_count": 30,
     "metadata": {},
     "output_type": "execute_result"
    }
   ],
   "source": [
    "# Obtain the joint angles of the target transform using inverse kinematics and move the arm to the target position.\n",
    "client.inverse_kinematics([\"left_arm\"], [target_transform], move=True)"
   ]
  },
  {
   "cell_type": "code",
   "execution_count": 31,
   "metadata": {},
   "outputs": [
    {
     "data": {
      "text/plain": [
       "array([ 0.   ,  0.   ,  0.   ,  0.   ,  0.   , -0.   ,  0.   ,  0.   ,\n",
       "        0.   ,  0.   ,  0.   , -0.   ,  0.239, -0.009, -0.018, -0.006,\n",
       "        0.01 , -0.   , -0.187, -0.224,  0.642, -0.906, -1.715,  0.482,\n",
       "       -0.021,  0.22 ,  0.035,  0.198, -1.184,  1.424, -0.113,  0.014])"
      ]
     },
     "execution_count": 31,
     "metadata": {},
     "output_type": "execute_result"
    }
   ],
   "source": [
    "# Obtain the joint angles of inital position using inverse kinematics and move the arm to that position.\n",
    "client.inverse_kinematics([\"left_arm\"], [curr_transform], move=True)"
   ]
  },
  {
   "cell_type": "code",
   "execution_count": 32,
   "metadata": {},
   "outputs": [],
   "source": [
    "client.disable()"
   ]
  },
  {
   "cell_type": "markdown",
   "metadata": {},
   "source": [
    "### Joint Space Control using movej\n",
    "\n",
    "The method takes the following arguments:\n",
    "```python\n",
    "     def movej(\n",
    "        self,\n",
    "        sides: list[Literal[\"left\", \"right\"]],\n",
    "        target_positions: list[np.ndarray | list],\n",
    "        target_velocity: list[np.ndarray | list] | None = None,\n",
    "        target_acceleration: list[np.ndarray | list] | None = None,\n",
    "        max_velocity: list[np.ndarray | list] | None = None,\n",
    "        max_acceleration: list[np.ndarray | list] | None = None,\n",
    "        max_jerk: list[np.ndarray | list] | None = None,\n",
    "        degrees: bool = False,\n",
    "        move: bool = True,\n",
    "    )-> list[list[np.ndarray]]:\n",
    "\n",
    "```\n",
    "\n",
    "Args:\n",
    "\n",
    "    sides (list[Literal[\"left\", \"right\"]]): Sides of the arms to move. Can be \"left\" or \"right\".\n",
    "\n",
    "    target_positions (list[np.ndarray | list]): Desired joint positions.\n",
    "    \n",
    "    target_velocity (list[np.ndarray | list] | None, optional): Desired joint velocities. Defaults to None. If None, the robot will estimate the velocity based on the target position.\n",
    "\n",
    "    target_acceleration (list[np.ndarray | list] | None, optional): Desired accelerations. Defaults to None.\n",
    "\n",
    "    max_velocity (list[np.ndarray | list] | None, optional): Max velocity during trajectory generation. Defaults to None. If None, the robot will use the default max velocity at 5 rad/s.\n",
    "\n",
    "    max_acceleration (list[np.ndarray | list] | None, optional): Max acceleration during trajectory generation. Defaults to None. If None, the robot will use the default max acceleration at 10 rad/s^2.\n",
    "\n",
    "    max_jerk (list[np.ndarray | list] | None, optional): Max jerk during trajectory generation. Defaults to None. If None, the robot will use the default max jerk at 50 rad/s^3.\n",
    "\n",
    "    degrees (bool, optional): True if the input is in degrees. Defaults to False.\n",
    "\n",
    "    move (bool, optional): Whether to execute the trajectory. Defaults to True.\n",
    "\n",
    "Returns:\n",
    "\n",
    "    list: The trajectory of joint positions and velocities for controlled arms to reach the target pose.\n",
    "\n",
    "\n",
    "\n",
    "The method uses the Movej function of the robot controller to generate a trajectory that moves the arm from the current position to the desired position at the specified velocity and acceleration. The method also sets the maximum velocity, acceleration, and jerk for the trajectory. If any of the max velocity, acceleration, or jerk is not specified, the robot will use the default values.\n",
    "\n",
    "Here's an example of how to use the method:"
   ]
  },
  {
   "cell_type": "code",
   "execution_count": 5,
   "metadata": {},
   "outputs": [],
   "source": [
    "# Obtain the joint angles of the target transform using inverse kinematics.\n",
    "target_q = client.inverse_kinematics([\"left_arm\"], [target_transform], move=False)\n",
    "target_q_left_arm = target_q[18:25]\n"
   ]
  },
  {
   "cell_type": "code",
   "execution_count": null,
   "metadata": {},
   "outputs": [],
   "source": [
    "client.enable()"
   ]
  },
  {
   "cell_type": "code",
   "execution_count": null,
   "metadata": {},
   "outputs": [],
   "source": [
    "# Use movej to move the left arm to the target position.\n",
    "client.movej(\"left\", target_position=target_q_left_arm)"
   ]
  },
  {
   "cell_type": "code",
   "execution_count": 6,
   "metadata": {},
   "outputs": [],
   "source": [
    "client.disable()"
   ]
  },
  {
   "cell_type": "markdown",
   "metadata": {},
   "source": [
    "## Cartesian Space Control using movel\n",
    "\n",
    "The method takes the following arguments:\n",
    "```python\n",
    "    def movel(\n",
    "        self,\n",
    "        sides: list[Literal[\"left\", \"right\"]],\n",
    "        target_poses: list[np.ndarray],\n",
    "        max_velocity: float | None = None,\n",
    "        max_acceleration: float | None = None,\n",
    "        max_jerk: float | None = None,\n",
    "        move: bool = True,\n",
    "    )->list[np.ndarray]:\n",
    "```\n",
    "Args:\n",
    "\n",
    "    sides (list[Literal[\"left\", \"right\"]]): Sides of the arms to move. Can be \"left\" or \"right\".\n",
    "\n",
    "    target_poses (list[np.ndarray]): Desired end effector poses.\n",
    "\n",
    "    max_velocity (float | None, optional): Max velocity during trajectory generation. Defaults to None.\n",
    "\n",
    "    max_acceleration (float | None, optional): Max acceleration during trajectory generation. Defaults to None.\n",
    "\n",
    "    max_jerk (float | None, optional): Max jerk during trajectory generation. Defaults to None.\n",
    "    \n",
    "    move (bool, optional): Whether to execute the trajectory. Defaults to True.\n",
    "\n",
    "Return:\n",
    "\n",
    "    list: The trajectory to reach the target pose.\n",
    "\n",
    "The method generates a trajectory to reach the target pose in cartesian space for the specified arms. The trajectory is generated using the inverse kinematics of the robot. The method returns a list of joint positions that can be used to execute the trajectory.\n",
    "\n",
    "Here's an example of how to use the method:\n",
    "            \n",
    "        "
   ]
  },
  {
   "cell_type": "code",
   "execution_count": null,
   "metadata": {},
   "outputs": [],
   "source": [
    "# target_poses = client.forward_kinematics([\"left_arm\", \"right_arm\"])\n",
    "target_poses=[np.array([[ 0.079, -0.067, -0.995,  0.292],\n",
    "        [-0.995,  0.056, -0.082,  0.124],\n",
    "        [ 0.062,  0.996, -0.063,  0.122],\n",
    "        [ 0.   ,  0.   ,  0.   ,  1.   ]]),\n",
    " np.array([[-0.057,  0.123, -0.991,  0.313],\n",
    "        [ 0.998, -0.005, -0.058, -0.141],\n",
    "        [-0.012, -0.992, -0.123,  0.092],\n",
    "        [ 0.   ,  0.   ,  0.   ,  1.   ]])]"
   ]
  },
  {
   "cell_type": "code",
   "execution_count": 11,
   "metadata": {},
   "outputs": [
    {
     "data": {
      "application/vnd.jupyter.widget-view+json": {
       "model_id": "2aaf3b00f3c4485991703ca2afacf6f0",
       "version_major": 2,
       "version_minor": 0
      },
      "text/plain": [
       "Output()"
      ]
     },
     "metadata": {},
     "output_type": "display_data"
    },
    {
     "name": "stdout",
     "output_type": "stream",
     "text": [
      "Time: 1.4378132820129395\n",
      "[ 0.     0.     0.     0.     0.    -0.     0.     0.     0.     0.\n",
      "  0.    -0.     0.     0.     0.     0.    -0.     0.    -0.18   0.094\n",
      "  0.116 -1.197 -1.497  0.323  0.017 -0.263  0.    -0.314 -0.998  1.561\n",
      " -0.473  0.21 ]\n"
     ]
    },
    {
     "data": {
      "text/html": [
       "<pre style=\"white-space:pre;overflow-x:auto;line-height:normal;font-family:Menlo,'DejaVu Sans Mono',consolas,'Courier New',monospace\"></pre>\n"
      ],
      "text/plain": []
     },
     "metadata": {},
     "output_type": "display_data"
    }
   ],
   "source": [
    "traj = client.movel([\"left\", \"right\"], target_poses, move=True)"
   ]
  }
 ],
 "metadata": {
  "kernelspec": {
   "display_name": "grx",
   "language": "python",
   "name": "python3"
  },
  "language_info": {
   "codemirror_mode": {
    "name": "ipython",
    "version": 3
   },
   "file_extension": ".py",
   "mimetype": "text/x-python",
   "name": "python",
   "nbconvert_exporter": "python",
   "pygments_lexer": "ipython3",
   "version": "3.11.9"
  }
 },
 "nbformat": 4,
 "nbformat_minor": 2
}
