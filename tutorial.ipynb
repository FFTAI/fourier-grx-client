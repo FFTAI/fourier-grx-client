{
 "cells": [
  {
   "cell_type": "markdown",
   "metadata": {},
   "source": [
    "## Getting Started"
   ]
  },
  {
   "cell_type": "code",
   "execution_count": 1,
   "metadata": {},
   "outputs": [],
   "source": [
    "import time\n",
    "import numpy as np\n",
    "from fourier_grx_client import RobotClient, ControlGroup\n",
    "from rich.table import Table\n",
    "from rich.console import Console\n",
    "console = Console()\n",
    "print = console.print\n",
    "np.set_printoptions(precision=3, suppress=True)"
   ]
  },
  {
   "cell_type": "markdown",
   "metadata": {},
   "source": [
    "### Start the server on the robot\n",
    "\n",
    "Grx server must be started on the robot torso computer before running the client and sending commands. To start the server on the robot, you need to follow these steps:\n",
    "\n",
    "1. Place the robot in an appropriate position, especially the arms, and switch on the E-stop.\n",
    "\n",
    "2. Start the server on the robot by running the following command on the robot:\n",
    "\n",
    "```bash\n",
    "grx run ./path/to/config --namesapce gr/my_awesome_robot\n",
    "```\n",
    "Replace `./path/to/config` with the path to your configuration file. Default configuration files are provided under 'config' directory.\n",
    "\n",
    "Namespace is used to identify the robot when connecting to it from the client. You can replace `my_awesome_robot` with any name you like.\n",
    "\n",
    "\n",
    "\n"
   ]
  },
  {
   "cell_type": "markdown",
   "metadata": {},
   "source": [
    "If the server is successfully started, you should see the following message in the terminal:\n",
    "\n",
    "```\n",
    "2024-09-14 16:32:57 | INFO | #################################\n",
    "2024-09-14 16:32:57 | SUCCESS | RobotServer OK!\n",
    "\n"
   ]
  },
  {
   "cell_type": "markdown",
   "metadata": {},
   "source": [
    "### Start the client \n",
    "\n",
    "After the server is successfully started, you can start the client and connect to the server. In this example, we will assume that the client is running on the same machine as the server. If the client is running on a different machine, you need to specify the IP address of the server.\n",
    "\n",
    "The namespace needs to be aligned with the namespace of that when starting the server. \n"
   ]
  },
  {
   "cell_type": "code",
   "execution_count": 2,
   "metadata": {},
   "outputs": [
    {
     "name": "stderr",
     "output_type": "stream",
     "text": [
      "\u001b[32m2024-09-13 18:46:53.041\u001b[0m | \u001b[1mINFO    \u001b[0m | \u001b[36mfourier_grx_client.client\u001b[0m:\u001b[36m__init__\u001b[0m:\u001b[36m71\u001b[0m - \u001b[1mRobotClient starting...\u001b[0m\n",
      "\u001b[32m2024-09-13 18:46:54.250\u001b[0m | \u001b[32m\u001b[1mSUCCESS \u001b[0m | \u001b[36mfourier_grx_client.client\u001b[0m:\u001b[36m__init__\u001b[0m:\u001b[36m157\u001b[0m - \u001b[32m\u001b[1mRobotClient started with namespace: gr/my_awesome_robot\u001b[0m\n"
     ]
    }
   ],
   "source": [
    "client= RobotClient(namespace=\"gr/my_awesome_robot\", server_ip=\"localhost\")"
   ]
  },
  {
   "cell_type": "markdown",
   "metadata": {},
   "source": [
    "## Important Concepts\n",
    "\n",
    "### Namespace\n",
    "\n",
    "We use the concept of namespace to avoid name conflicts between different robots.\n",
    "A namespace is a way to group related topics together. It is a prefix that is added to the topic name. For example, if the namespace is `gr/my_awesome_robot`, then the topic name `control` will become `gr/my_awesome_robot/control`.\n",
    "\n",
    "### Joint Orders\n",
    "\n",
    "The robot has 32 joints. All internal representations of the robot's state, commands, and parameters are in the order of these joints. \n",
    "\n",
    "The joint orders for `GR1T2` are as follows:\n",
    "\n",
    "| Index | Joint Name |\n",
    "| --- | --- |\n",
    "| 0 | left_hip_roll_joint |\n",
    "| 1 | left_hip_yaw_joint |\n",
    "| 2 | left_hip_pitch_joint |\n",
    "| 3 | left_knee_pitch_joint |\n",
    "| 4 | left_ankle_pitch_joint |\n",
    "| 5 | left_ankle_roll_joint |\n",
    "| 6 | right_hip_roll_joint |\n",
    "| 7 | right_hip_yaw_joint |\n",
    "| 8 | right_hip_pitch_joint |\n",
    "| 9 | right_knee_pitch_joint |\n",
    "| 10 | right_ankle_pitch_joint |\n",
    "| 11 | right_ankle_roll_joint |\n",
    "| 12 | waist_yaw_joint |\n",
    "| 13 | waist_pitch_joint |\n",
    "| 14 | waist_roll_joint |\n",
    "| 15 | head_pitch_joint |\n",
    "| 16 | head_roll_joint |\n",
    "| 17 | head_yaw_joint |\n",
    "| 18 | left_shoulder_pitch_joint |\n",
    "| 19 | left_shoulder_roll_joint |\n",
    "| 20 | left_shoulder_yaw_joint |\n",
    "| 21 | left_elbow_pitch_joint |\n",
    "| 22 | left_wrist_yaw_joint |\n",
    "| 23 | left_wrist_roll_joint |\n",
    "| 24 | left_wrist_pitch_joint |\n",
    "| 25 | right_shoulder_pitch_joint |\n",
    "| 26 | right_shoulder_roll_joint |\n",
    "| 27 | right_shoulder_yaw_joint |\n",
    "| 28 | right_elbow_pitch_joint |\n",
    "| 29 | right_wrist_yaw_joint |\n",
    "| 30 | right_wrist_roll_joint |\n",
    "| 31 | right_wrist_pitch_joint |\n",
    "\n",
    "\n",
    "### Absolute encoder and `sensor_offset.json`\n",
    "\n",
    "The robot has absolute encoders for joints 0 to 14, AKA the leg joints and the waist joints. The absolute encoders are used to determine the absolute position of the joints. The calibration file `sensor_offset.json` contains the offset values for the absolute encoders. The offset values are used to calibrate the absolute encoders. The calibration file is specific to each robot. Before running the robot, make sure that the calibration file is present in the working directory where the `grx` server is running. "
   ]
  },
  {
   "cell_type": "markdown",
   "metadata": {},
   "source": [
    "## Usage"
   ]
  },
  {
   "cell_type": "markdown",
   "metadata": {},
   "source": [
    "### Calibration\n",
    "\n",
    "For arm and head actuators, the home positons are determiend when switching on the E-stop button, which means you need to place them properly every time you power on the actuators.\n",
    "\n",
    "For waist and leg actuators, the home positions are determined according to the `sensor_offset.json` file. This file is generated by the calibration process and contains the offsets of the encoders. You only need to run the calibration process once, and the `sensor_offset.json` file will be saved to the working directory where the `grx` server is running.\n",
    "\n",
    "Running the following command will execute the calibration of the absolute encoders:\n",
    "\n",
    "```bash\n",
    "grx calibrate --namespace gr/my_awesome_robot --ip 192.168.x.x\n",
    "```\n",
    "\n",
    "Or if you prefer to do it by code, you can use the following code snippet:\n",
    "\n",
    "```python\n",
    "client.calibrate_sensors()\n",
    "```\n",
    "\n"
   ]
  },
  {
   "cell_type": "markdown",
   "metadata": {},
   "source": [
    "### Getting the robot states"
   ]
  },
  {
   "cell_type": "markdown",
   "metadata": {},
   "source": [
    "The robot states can be accessed on the following properties:"
   ]
  },
  {
   "cell_type": "code",
   "execution_count": 3,
   "metadata": {},
   "outputs": [
    {
     "data": {
      "text/html": [
       "<pre style=\"white-space:pre;overflow-x:auto;line-height:normal;font-family:Menlo,'DejaVu Sans Mono',consolas,'Courier New',monospace\">client.<span style=\"color: #808000; text-decoration-color: #808000\">joint_positions</span>=<span style=\"color: #800080; text-decoration-color: #800080; font-weight: bold\">array</span><span style=\"font-weight: bold\">([</span> <span style=\"color: #008080; text-decoration-color: #008080; font-weight: bold\">0</span>.   ,  <span style=\"color: #008080; text-decoration-color: #008080; font-weight: bold\">0</span>.   , <span style=\"color: #008080; text-decoration-color: #008080; font-weight: bold\">-0</span>.   ,  <span style=\"color: #008080; text-decoration-color: #008080; font-weight: bold\">0.001</span>,  <span style=\"color: #008080; text-decoration-color: #008080; font-weight: bold\">0</span>.   , <span style=\"color: #008080; text-decoration-color: #008080; font-weight: bold\">-0.001</span>,  <span style=\"color: #008080; text-decoration-color: #008080; font-weight: bold\">0</span>.   ,  <span style=\"color: #008080; text-decoration-color: #008080; font-weight: bold\">0</span>.   ,\n",
       "       <span style=\"color: #008080; text-decoration-color: #008080; font-weight: bold\">-0.001</span>,  <span style=\"color: #008080; text-decoration-color: #008080; font-weight: bold\">0.001</span>,  <span style=\"color: #008080; text-decoration-color: #008080; font-weight: bold\">0</span>.   ,  <span style=\"color: #008080; text-decoration-color: #008080; font-weight: bold\">0.001</span>,  <span style=\"color: #008080; text-decoration-color: #008080; font-weight: bold\">0</span>.   ,  <span style=\"color: #008080; text-decoration-color: #008080; font-weight: bold\">0</span>.   ,  <span style=\"color: #008080; text-decoration-color: #008080; font-weight: bold\">0</span>.   ,  <span style=\"color: #008080; text-decoration-color: #008080; font-weight: bold\">0.001</span>,\n",
       "       <span style=\"color: #008080; text-decoration-color: #008080; font-weight: bold\">-0.001</span>, <span style=\"color: #008080; text-decoration-color: #008080; font-weight: bold\">-0.061</span>, <span style=\"color: #008080; text-decoration-color: #008080; font-weight: bold\">-0.004</span>, <span style=\"color: #008080; text-decoration-color: #008080; font-weight: bold\">-0.027</span>, <span style=\"color: #008080; text-decoration-color: #008080; font-weight: bold\">-0</span>.   ,  <span style=\"color: #008080; text-decoration-color: #008080; font-weight: bold\">0</span>.   ,  <span style=\"color: #008080; text-decoration-color: #008080; font-weight: bold\">0</span>.   ,  <span style=\"color: #008080; text-decoration-color: #008080; font-weight: bold\">0.032</span>,\n",
       "        <span style=\"color: #008080; text-decoration-color: #008080; font-weight: bold\">0.05</span> , <span style=\"color: #008080; text-decoration-color: #008080; font-weight: bold\">-0.09</span> ,  <span style=\"color: #008080; text-decoration-color: #008080; font-weight: bold\">0.007</span>,  <span style=\"color: #008080; text-decoration-color: #008080; font-weight: bold\">0</span>.   ,  <span style=\"color: #008080; text-decoration-color: #008080; font-weight: bold\">0</span>.   , <span style=\"color: #008080; text-decoration-color: #008080; font-weight: bold\">-0.178</span>,  <span style=\"color: #008080; text-decoration-color: #008080; font-weight: bold\">0.045</span>, <span style=\"color: #008080; text-decoration-color: #008080; font-weight: bold\">-0.015</span><span style=\"font-weight: bold\">])</span>\n",
       "</pre>\n"
      ],
      "text/plain": [
       "client.\u001b[33mjoint_positions\u001b[0m=\u001b[1;35marray\u001b[0m\u001b[1m(\u001b[0m\u001b[1m[\u001b[0m \u001b[1;36m0\u001b[0m.   ,  \u001b[1;36m0\u001b[0m.   , \u001b[1;36m-0\u001b[0m.   ,  \u001b[1;36m0.001\u001b[0m,  \u001b[1;36m0\u001b[0m.   , \u001b[1;36m-0.001\u001b[0m,  \u001b[1;36m0\u001b[0m.   ,  \u001b[1;36m0\u001b[0m.   ,\n",
       "       \u001b[1;36m-0.001\u001b[0m,  \u001b[1;36m0.001\u001b[0m,  \u001b[1;36m0\u001b[0m.   ,  \u001b[1;36m0.001\u001b[0m,  \u001b[1;36m0\u001b[0m.   ,  \u001b[1;36m0\u001b[0m.   ,  \u001b[1;36m0\u001b[0m.   ,  \u001b[1;36m0.001\u001b[0m,\n",
       "       \u001b[1;36m-0.001\u001b[0m, \u001b[1;36m-0.061\u001b[0m, \u001b[1;36m-0.004\u001b[0m, \u001b[1;36m-0.027\u001b[0m, \u001b[1;36m-0\u001b[0m.   ,  \u001b[1;36m0\u001b[0m.   ,  \u001b[1;36m0\u001b[0m.   ,  \u001b[1;36m0.032\u001b[0m,\n",
       "        \u001b[1;36m0.05\u001b[0m , \u001b[1;36m-0.09\u001b[0m ,  \u001b[1;36m0.007\u001b[0m,  \u001b[1;36m0\u001b[0m.   ,  \u001b[1;36m0\u001b[0m.   , \u001b[1;36m-0.178\u001b[0m,  \u001b[1;36m0.045\u001b[0m, \u001b[1;36m-0.015\u001b[0m\u001b[1m]\u001b[0m\u001b[1m)\u001b[0m\n"
      ]
     },
     "metadata": {},
     "output_type": "display_data"
    },
    {
     "data": {
      "text/html": [
       "<pre style=\"white-space:pre;overflow-x:auto;line-height:normal;font-family:Menlo,'DejaVu Sans Mono',consolas,'Courier New',monospace\">client.<span style=\"color: #808000; text-decoration-color: #808000\">joint_velocity</span>=<span style=\"color: #800080; text-decoration-color: #800080; font-weight: bold\">array</span><span style=\"font-weight: bold\">([</span><span style=\"color: #008080; text-decoration-color: #008080; font-weight: bold\">-0.001</span>, <span style=\"color: #008080; text-decoration-color: #008080; font-weight: bold\">-0.002</span>, <span style=\"color: #008080; text-decoration-color: #008080; font-weight: bold\">-0.008</span>,  <span style=\"color: #008080; text-decoration-color: #008080; font-weight: bold\">0.007</span>, <span style=\"color: #008080; text-decoration-color: #008080; font-weight: bold\">-0.001</span>,  <span style=\"color: #008080; text-decoration-color: #008080; font-weight: bold\">0.003</span>,  <span style=\"color: #008080; text-decoration-color: #008080; font-weight: bold\">0.001</span>,  <span style=\"color: #008080; text-decoration-color: #008080; font-weight: bold\">0.001</span>,\n",
       "        <span style=\"color: #008080; text-decoration-color: #008080; font-weight: bold\">0.001</span>, <span style=\"color: #008080; text-decoration-color: #008080; font-weight: bold\">-0.001</span>, <span style=\"color: #008080; text-decoration-color: #008080; font-weight: bold\">-0.001</span>,  <span style=\"color: #008080; text-decoration-color: #008080; font-weight: bold\">0.003</span>, <span style=\"color: #008080; text-decoration-color: #008080; font-weight: bold\">-0</span>.   ,  <span style=\"color: #008080; text-decoration-color: #008080; font-weight: bold\">0.001</span>, <span style=\"color: #008080; text-decoration-color: #008080; font-weight: bold\">-0.002</span>,  <span style=\"color: #008080; text-decoration-color: #008080; font-weight: bold\">0.001</span>,\n",
       "       <span style=\"color: #008080; text-decoration-color: #008080; font-weight: bold\">-0.004</span>, <span style=\"color: #008080; text-decoration-color: #008080; font-weight: bold\">-0</span>.   ,  <span style=\"color: #008080; text-decoration-color: #008080; font-weight: bold\">0.001</span>, <span style=\"color: #008080; text-decoration-color: #008080; font-weight: bold\">-0</span>.   ,  <span style=\"color: #008080; text-decoration-color: #008080; font-weight: bold\">0</span>.   , <span style=\"color: #008080; text-decoration-color: #008080; font-weight: bold\">-0</span>.   ,  <span style=\"color: #008080; text-decoration-color: #008080; font-weight: bold\">0.001</span>,  <span style=\"color: #008080; text-decoration-color: #008080; font-weight: bold\">0.002</span>,\n",
       "        <span style=\"color: #008080; text-decoration-color: #008080; font-weight: bold\">0.001</span>,  <span style=\"color: #008080; text-decoration-color: #008080; font-weight: bold\">0</span>.   , <span style=\"color: #008080; text-decoration-color: #008080; font-weight: bold\">-0</span>.   ,  <span style=\"color: #008080; text-decoration-color: #008080; font-weight: bold\">0</span>.   , <span style=\"color: #008080; text-decoration-color: #008080; font-weight: bold\">-0</span>.   , <span style=\"color: #008080; text-decoration-color: #008080; font-weight: bold\">-0.001</span>, <span style=\"color: #008080; text-decoration-color: #008080; font-weight: bold\">-0</span>.   , <span style=\"color: #008080; text-decoration-color: #008080; font-weight: bold\">-0.001</span><span style=\"font-weight: bold\">])</span>\n",
       "</pre>\n"
      ],
      "text/plain": [
       "client.\u001b[33mjoint_velocity\u001b[0m=\u001b[1;35marray\u001b[0m\u001b[1m(\u001b[0m\u001b[1m[\u001b[0m\u001b[1;36m-0.001\u001b[0m, \u001b[1;36m-0.002\u001b[0m, \u001b[1;36m-0.008\u001b[0m,  \u001b[1;36m0.007\u001b[0m, \u001b[1;36m-0.001\u001b[0m,  \u001b[1;36m0.003\u001b[0m,  \u001b[1;36m0.001\u001b[0m,  \u001b[1;36m0.001\u001b[0m,\n",
       "        \u001b[1;36m0.001\u001b[0m, \u001b[1;36m-0.001\u001b[0m, \u001b[1;36m-0.001\u001b[0m,  \u001b[1;36m0.003\u001b[0m, \u001b[1;36m-0\u001b[0m.   ,  \u001b[1;36m0.001\u001b[0m, \u001b[1;36m-0.002\u001b[0m,  \u001b[1;36m0.001\u001b[0m,\n",
       "       \u001b[1;36m-0.004\u001b[0m, \u001b[1;36m-0\u001b[0m.   ,  \u001b[1;36m0.001\u001b[0m, \u001b[1;36m-0\u001b[0m.   ,  \u001b[1;36m0\u001b[0m.   , \u001b[1;36m-0\u001b[0m.   ,  \u001b[1;36m0.001\u001b[0m,  \u001b[1;36m0.002\u001b[0m,\n",
       "        \u001b[1;36m0.001\u001b[0m,  \u001b[1;36m0\u001b[0m.   , \u001b[1;36m-0\u001b[0m.   ,  \u001b[1;36m0\u001b[0m.   , \u001b[1;36m-0\u001b[0m.   , \u001b[1;36m-0.001\u001b[0m, \u001b[1;36m-0\u001b[0m.   , \u001b[1;36m-0.001\u001b[0m\u001b[1m]\u001b[0m\u001b[1m)\u001b[0m\n"
      ]
     },
     "metadata": {},
     "output_type": "display_data"
    },
    {
     "data": {
      "text/html": [
       "<pre style=\"white-space:pre;overflow-x:auto;line-height:normal;font-family:Menlo,'DejaVu Sans Mono',consolas,'Courier New',monospace\">client.<span style=\"color: #808000; text-decoration-color: #808000\">joint_current</span>=<span style=\"color: #800080; text-decoration-color: #800080; font-weight: bold\">array</span><span style=\"font-weight: bold\">([</span> <span style=\"color: #008080; text-decoration-color: #008080; font-weight: bold\">0.023</span>, <span style=\"color: #008080; text-decoration-color: #008080; font-weight: bold\">-0.026</span>, <span style=\"color: #008080; text-decoration-color: #008080; font-weight: bold\">-0.024</span>,  <span style=\"color: #008080; text-decoration-color: #008080; font-weight: bold\">0.225</span>,  <span style=\"color: #008080; text-decoration-color: #008080; font-weight: bold\">0.002</span>, <span style=\"color: #008080; text-decoration-color: #008080; font-weight: bold\">-0.006</span>,  <span style=\"color: #008080; text-decoration-color: #008080; font-weight: bold\">0.007</span>, <span style=\"color: #008080; text-decoration-color: #008080; font-weight: bold\">-0.05</span> ,\n",
       "        <span style=\"color: #008080; text-decoration-color: #008080; font-weight: bold\">0.108</span>, <span style=\"color: #008080; text-decoration-color: #008080; font-weight: bold\">-0.151</span>, <span style=\"color: #008080; text-decoration-color: #008080; font-weight: bold\">-0.004</span>, <span style=\"color: #008080; text-decoration-color: #008080; font-weight: bold\">-0.005</span>,  <span style=\"color: #008080; text-decoration-color: #008080; font-weight: bold\">0.002</span>,  <span style=\"color: #008080; text-decoration-color: #008080; font-weight: bold\">0.021</span>, <span style=\"color: #008080; text-decoration-color: #008080; font-weight: bold\">-0.005</span>, <span style=\"color: #008080; text-decoration-color: #008080; font-weight: bold\">-0.002</span>,\n",
       "       <span style=\"color: #008080; text-decoration-color: #008080; font-weight: bold\">-0.014</span>, <span style=\"color: #008080; text-decoration-color: #008080; font-weight: bold\">-0.019</span>, <span style=\"color: #008080; text-decoration-color: #008080; font-weight: bold\">-0.001</span>,  <span style=\"color: #008080; text-decoration-color: #008080; font-weight: bold\">0.01</span> ,  <span style=\"color: #008080; text-decoration-color: #008080; font-weight: bold\">0.008</span>,  <span style=\"color: #008080; text-decoration-color: #008080; font-weight: bold\">0.02</span> ,  <span style=\"color: #008080; text-decoration-color: #008080; font-weight: bold\">0.006</span>, <span style=\"color: #008080; text-decoration-color: #008080; font-weight: bold\">-0.003</span>,\n",
       "       <span style=\"color: #008080; text-decoration-color: #008080; font-weight: bold\">-0.026</span>,  <span style=\"color: #008080; text-decoration-color: #008080; font-weight: bold\">0.006</span>,  <span style=\"color: #008080; text-decoration-color: #008080; font-weight: bold\">0.004</span>,  <span style=\"color: #008080; text-decoration-color: #008080; font-weight: bold\">0.005</span>, <span style=\"color: #008080; text-decoration-color: #008080; font-weight: bold\">-0.002</span>,  <span style=\"color: #008080; text-decoration-color: #008080; font-weight: bold\">0.004</span>,  <span style=\"color: #008080; text-decoration-color: #008080; font-weight: bold\">0.005</span>,  <span style=\"color: #008080; text-decoration-color: #008080; font-weight: bold\">0.019</span><span style=\"font-weight: bold\">])</span>\n",
       "</pre>\n"
      ],
      "text/plain": [
       "client.\u001b[33mjoint_current\u001b[0m=\u001b[1;35marray\u001b[0m\u001b[1m(\u001b[0m\u001b[1m[\u001b[0m \u001b[1;36m0.023\u001b[0m, \u001b[1;36m-0.026\u001b[0m, \u001b[1;36m-0.024\u001b[0m,  \u001b[1;36m0.225\u001b[0m,  \u001b[1;36m0.002\u001b[0m, \u001b[1;36m-0.006\u001b[0m,  \u001b[1;36m0.007\u001b[0m, \u001b[1;36m-0.05\u001b[0m ,\n",
       "        \u001b[1;36m0.108\u001b[0m, \u001b[1;36m-0.151\u001b[0m, \u001b[1;36m-0.004\u001b[0m, \u001b[1;36m-0.005\u001b[0m,  \u001b[1;36m0.002\u001b[0m,  \u001b[1;36m0.021\u001b[0m, \u001b[1;36m-0.005\u001b[0m, \u001b[1;36m-0.002\u001b[0m,\n",
       "       \u001b[1;36m-0.014\u001b[0m, \u001b[1;36m-0.019\u001b[0m, \u001b[1;36m-0.001\u001b[0m,  \u001b[1;36m0.01\u001b[0m ,  \u001b[1;36m0.008\u001b[0m,  \u001b[1;36m0.02\u001b[0m ,  \u001b[1;36m0.006\u001b[0m, \u001b[1;36m-0.003\u001b[0m,\n",
       "       \u001b[1;36m-0.026\u001b[0m,  \u001b[1;36m0.006\u001b[0m,  \u001b[1;36m0.004\u001b[0m,  \u001b[1;36m0.005\u001b[0m, \u001b[1;36m-0.002\u001b[0m,  \u001b[1;36m0.004\u001b[0m,  \u001b[1;36m0.005\u001b[0m,  \u001b[1;36m0.019\u001b[0m\u001b[1m]\u001b[0m\u001b[1m)\u001b[0m\n"
      ]
     },
     "metadata": {},
     "output_type": "display_data"
    },
    {
     "data": {
      "text/html": [
       "<pre style=\"white-space:pre;overflow-x:auto;line-height:normal;font-family:Menlo,'DejaVu Sans Mono',consolas,'Courier New',monospace\">client.<span style=\"color: #808000; text-decoration-color: #808000\">joint_effort</span>=<span style=\"color: #800080; text-decoration-color: #800080; font-weight: bold\">array</span><span style=\"font-weight: bold\">([</span> <span style=\"color: #008080; text-decoration-color: #008080; font-weight: bold\">0.087</span>, <span style=\"color: #008080; text-decoration-color: #008080; font-weight: bold\">-0.089</span>, <span style=\"color: #008080; text-decoration-color: #008080; font-weight: bold\">-0.043</span>,  <span style=\"color: #008080; text-decoration-color: #008080; font-weight: bold\">0.409</span>, <span style=\"color: #008080; text-decoration-color: #008080; font-weight: bold\">-0.009</span>,  <span style=\"color: #008080; text-decoration-color: #008080; font-weight: bold\">0.009</span>,  <span style=\"color: #008080; text-decoration-color: #008080; font-weight: bold\">0.027</span>, <span style=\"color: #008080; text-decoration-color: #008080; font-weight: bold\">-0.17</span> ,\n",
       "        <span style=\"color: #008080; text-decoration-color: #008080; font-weight: bold\">0.197</span>, <span style=\"color: #008080; text-decoration-color: #008080; font-weight: bold\">-0.274</span>, <span style=\"color: #008080; text-decoration-color: #008080; font-weight: bold\">-0.02</span> , <span style=\"color: #008080; text-decoration-color: #008080; font-weight: bold\">-0.001</span>,  <span style=\"color: #008080; text-decoration-color: #008080; font-weight: bold\">0.008</span>,  <span style=\"color: #008080; text-decoration-color: #008080; font-weight: bold\">0.072</span>, <span style=\"color: #008080; text-decoration-color: #008080; font-weight: bold\">-0.019</span>, <span style=\"color: #008080; text-decoration-color: #008080; font-weight: bold\">-0.049</span>,\n",
       "        <span style=\"color: #008080; text-decoration-color: #008080; font-weight: bold\">0.024</span>, <span style=\"color: #008080; text-decoration-color: #008080; font-weight: bold\">-0.059</span>, <span style=\"color: #008080; text-decoration-color: #008080; font-weight: bold\">-0.003</span>,  <span style=\"color: #008080; text-decoration-color: #008080; font-weight: bold\">0.049</span>,  <span style=\"color: #008080; text-decoration-color: #008080; font-weight: bold\">0.05</span> ,  <span style=\"color: #008080; text-decoration-color: #008080; font-weight: bold\">0.117</span>,  <span style=\"color: #008080; text-decoration-color: #008080; font-weight: bold\">0.012</span>,  <span style=\"color: #008080; text-decoration-color: #008080; font-weight: bold\">0.043</span>,\n",
       "       <span style=\"color: #008080; text-decoration-color: #008080; font-weight: bold\">-0.03</span> ,  <span style=\"color: #008080; text-decoration-color: #008080; font-weight: bold\">0.029</span>,  <span style=\"color: #008080; text-decoration-color: #008080; font-weight: bold\">0.021</span>,  <span style=\"color: #008080; text-decoration-color: #008080; font-weight: bold\">0.028</span>, <span style=\"color: #008080; text-decoration-color: #008080; font-weight: bold\">-0.012</span>,  <span style=\"color: #008080; text-decoration-color: #008080; font-weight: bold\">0.007</span>,  <span style=\"color: #008080; text-decoration-color: #008080; font-weight: bold\">0.026</span>, <span style=\"color: #008080; text-decoration-color: #008080; font-weight: bold\">-0.025</span><span style=\"font-weight: bold\">])</span>\n",
       "</pre>\n"
      ],
      "text/plain": [
       "client.\u001b[33mjoint_effort\u001b[0m=\u001b[1;35marray\u001b[0m\u001b[1m(\u001b[0m\u001b[1m[\u001b[0m \u001b[1;36m0.087\u001b[0m, \u001b[1;36m-0.089\u001b[0m, \u001b[1;36m-0.043\u001b[0m,  \u001b[1;36m0.409\u001b[0m, \u001b[1;36m-0.009\u001b[0m,  \u001b[1;36m0.009\u001b[0m,  \u001b[1;36m0.027\u001b[0m, \u001b[1;36m-0.17\u001b[0m ,\n",
       "        \u001b[1;36m0.197\u001b[0m, \u001b[1;36m-0.274\u001b[0m, \u001b[1;36m-0.02\u001b[0m , \u001b[1;36m-0.001\u001b[0m,  \u001b[1;36m0.008\u001b[0m,  \u001b[1;36m0.072\u001b[0m, \u001b[1;36m-0.019\u001b[0m, \u001b[1;36m-0.049\u001b[0m,\n",
       "        \u001b[1;36m0.024\u001b[0m, \u001b[1;36m-0.059\u001b[0m, \u001b[1;36m-0.003\u001b[0m,  \u001b[1;36m0.049\u001b[0m,  \u001b[1;36m0.05\u001b[0m ,  \u001b[1;36m0.117\u001b[0m,  \u001b[1;36m0.012\u001b[0m,  \u001b[1;36m0.043\u001b[0m,\n",
       "       \u001b[1;36m-0.03\u001b[0m ,  \u001b[1;36m0.029\u001b[0m,  \u001b[1;36m0.021\u001b[0m,  \u001b[1;36m0.028\u001b[0m, \u001b[1;36m-0.012\u001b[0m,  \u001b[1;36m0.007\u001b[0m,  \u001b[1;36m0.026\u001b[0m, \u001b[1;36m-0.025\u001b[0m\u001b[1m]\u001b[0m\u001b[1m)\u001b[0m\n"
      ]
     },
     "metadata": {},
     "output_type": "display_data"
    }
   ],
   "source": [
    "print(f\"{client.joint_positions=}\")\n",
    "print(f\"{client.joint_velocity=}\")\n",
    "print(f\"{client.joint_current=}\")\n",
    "print(f\"{client.joint_effort=}\")"
   ]
  },
  {
   "cell_type": "markdown",
   "metadata": {},
   "source": [
    "The above are the convenient methods to access the robot states. However, the robot states can also be accessed directly from the `client.states` dictionary. We can inspect it to find the available states:"
   ]
  },
  {
   "cell_type": "code",
   "execution_count": 4,
   "metadata": {},
   "outputs": [
    {
     "data": {
      "text/html": [
       "<pre style=\"white-space:pre;overflow-x:auto;line-height:normal;font-family:Menlo,'DejaVu Sans Mono',consolas,'Courier New',monospace\"><span style=\"font-style: italic\">                                  Current 🤖 states (in radians)                                  </span>\n",
       "┏━━━━━━━━━━━━━━━━━━━━━━━┳━━━━━━━━━━━━━━━━━━━━━━━━━━━━━━━━━━━━━━━━━━━━━━━━━━━━━━━━━━━━━━━━━━━━━━━━┓\n",
       "┃<span style=\"font-weight: bold\"> Type                  </span>┃<span style=\"font-weight: bold\"> Data                                                                   </span>┃\n",
       "┡━━━━━━━━━━━━━━━━━━━━━━━╇━━━━━━━━━━━━━━━━━━━━━━━━━━━━━━━━━━━━━━━━━━━━━━━━━━━━━━━━━━━━━━━━━━━━━━━━┩\n",
       "│ imu/quat              │ [-0. -0. -0.  0.]                                                      │\n",
       "│ imu/euler_angle       │ [ 3.142 -0.     0.   ]                                                 │\n",
       "│ imu/angular_velocity  │ [ 0.  0. -0.]                                                          │\n",
       "│ imu/acceleration      │ [-0. -0.  0.]                                                          │\n",
       "│ joint/position        │ [ 0.     0.    -0.     0.001  0.    -0.001  0.     0.    -0.001  0.001 │\n",
       "│                       │   0.     0.001  0.     0.     0.     0.001 -0.001 -0.061 -0.004 -0.027 │\n",
       "│                       │   0.     0.     0.     0.032  0.05  -0.09   0.007  0.     0.    -0.178 │\n",
       "│                       │   0.045 -0.015]                                                        │\n",
       "│ joint/velocity        │ [-0.001 -0.003  0.013  0.005  0.     0.002  0.001  0.    -0.013 -0.006 │\n",
       "│                       │   0.001 -0.001 -0.     0.002 -0.003 -0.001  0.001  0.     0.001  0.    │\n",
       "│                       │   0.     0.     0.002  0.     0.002  0.     0.     0.     0.     0.004 │\n",
       "│                       │   0.    -0.001]                                                        │\n",
       "│ joint/effort          │ [ 0.002 -0.002 -0.001  0.007 -0.     0.     0.    -0.003  0.003 -0.005 │\n",
       "│                       │  -0.    -0.     0.     0.001 -0.    -0.001  0.    -0.001 -0.     0.001 │\n",
       "│                       │   0.001  0.002  0.     0.001 -0.001  0.001  0.     0.    -0.     0.    │\n",
       "│                       │   0.    -0.   ]                                                        │\n",
       "│ joint/current         │ [ 0.    -0.    -0.     0.004  0.    -0.     0.    -0.001  0.002 -0.003 │\n",
       "│                       │  -0.    -0.     0.     0.    -0.    -0.    -0.    -0.    -0.     0.    │\n",
       "│                       │   0.     0.     0.    -0.    -0.     0.     0.     0.    -0.     0.    │\n",
       "│                       │   0.     0.   ]                                                        │\n",
       "│ base/estimate_xyz     │ [0.    0.    0.016]                                                    │\n",
       "│ base/estimate_xyz_vel │ [0. 0. 0.]                                                             │\n",
       "└───────────────────────┴────────────────────────────────────────────────────────────────────────┘\n",
       "</pre>\n"
      ],
      "text/plain": [
       "\u001b[3m                                  Current 🤖 states (in radians)                                  \u001b[0m\n",
       "┏━━━━━━━━━━━━━━━━━━━━━━━┳━━━━━━━━━━━━━━━━━━━━━━━━━━━━━━━━━━━━━━━━━━━━━━━━━━━━━━━━━━━━━━━━━━━━━━━━┓\n",
       "┃\u001b[1m \u001b[0m\u001b[1mType                 \u001b[0m\u001b[1m \u001b[0m┃\u001b[1m \u001b[0m\u001b[1mData                                                                  \u001b[0m\u001b[1m \u001b[0m┃\n",
       "┡━━━━━━━━━━━━━━━━━━━━━━━╇━━━━━━━━━━━━━━━━━━━━━━━━━━━━━━━━━━━━━━━━━━━━━━━━━━━━━━━━━━━━━━━━━━━━━━━━┩\n",
       "│ imu/quat              │ [-0. -0. -0.  0.]                                                      │\n",
       "│ imu/euler_angle       │ [ 3.142 -0.     0.   ]                                                 │\n",
       "│ imu/angular_velocity  │ [ 0.  0. -0.]                                                          │\n",
       "│ imu/acceleration      │ [-0. -0.  0.]                                                          │\n",
       "│ joint/position        │ [ 0.     0.    -0.     0.001  0.    -0.001  0.     0.    -0.001  0.001 │\n",
       "│                       │   0.     0.001  0.     0.     0.     0.001 -0.001 -0.061 -0.004 -0.027 │\n",
       "│                       │   0.     0.     0.     0.032  0.05  -0.09   0.007  0.     0.    -0.178 │\n",
       "│                       │   0.045 -0.015]                                                        │\n",
       "│ joint/velocity        │ [-0.001 -0.003  0.013  0.005  0.     0.002  0.001  0.    -0.013 -0.006 │\n",
       "│                       │   0.001 -0.001 -0.     0.002 -0.003 -0.001  0.001  0.     0.001  0.    │\n",
       "│                       │   0.     0.     0.002  0.     0.002  0.     0.     0.     0.     0.004 │\n",
       "│                       │   0.    -0.001]                                                        │\n",
       "│ joint/effort          │ [ 0.002 -0.002 -0.001  0.007 -0.     0.     0.    -0.003  0.003 -0.005 │\n",
       "│                       │  -0.    -0.     0.     0.001 -0.    -0.001  0.    -0.001 -0.     0.001 │\n",
       "│                       │   0.001  0.002  0.     0.001 -0.001  0.001  0.     0.    -0.     0.    │\n",
       "│                       │   0.    -0.   ]                                                        │\n",
       "│ joint/current         │ [ 0.    -0.    -0.     0.004  0.    -0.     0.    -0.001  0.002 -0.003 │\n",
       "│                       │  -0.    -0.     0.     0.    -0.    -0.    -0.    -0.    -0.     0.    │\n",
       "│                       │   0.     0.     0.    -0.    -0.     0.     0.     0.    -0.     0.    │\n",
       "│                       │   0.     0.   ]                                                        │\n",
       "│ base/estimate_xyz     │ [0.    0.    0.016]                                                    │\n",
       "│ base/estimate_xyz_vel │ [0. 0. 0.]                                                             │\n",
       "└───────────────────────┴────────────────────────────────────────────────────────────────────────┘\n"
      ]
     },
     "metadata": {},
     "output_type": "display_data"
    }
   ],
   "source": [
    "table = Table(\"Type\", \"Data\", title=\"Current :robot: states (in radians)\")\n",
    "for sensor_type, sensor_data in client.states.items():\n",
    "    for sensor_name, sensor_reading in sensor_data.items():\n",
    "        table.add_row(\n",
    "            sensor_type + \"/\" + sensor_name,\n",
    "            str(np.deg2rad(sensor_reading)),\n",
    "        )\n",
    "print(table)"
   ]
  },
  {
   "cell_type": "markdown",
   "metadata": {},
   "source": [
    "### Enabling and disabling the robot"
   ]
  },
  {
   "cell_type": "markdown",
   "metadata": {},
   "source": [
    "Now, to actually drive the robot, we need to first enable it:"
   ]
  },
  {
   "cell_type": "code",
   "execution_count": 5,
   "metadata": {},
   "outputs": [],
   "source": [
    "client.enable()"
   ]
  },
  {
   "cell_type": "markdown",
   "metadata": {},
   "source": [
    "After enabling the robot, you can hear the robot's motors turning on. To disable it, just run:\n",
    "\n",
    "```python\n",
    "client.disable()\n",
    "```"
   ]
  },
  {
   "cell_type": "code",
   "execution_count": 6,
   "metadata": {},
   "outputs": [],
   "source": [
    "client.disable()"
   ]
  },
  {
   "cell_type": "markdown",
   "metadata": {},
   "source": [
    "### Setting and getting joint gains\n",
    "\n",
    "Before we can control the robot, we need to set the joint gains. The joint gains are the parameters that control how the robot's joints respond to the commands. The joint gains can be set using the `client.set_gains` method. The method takes the following arguments:\n",
    "\n",
    "```python\n",
    "def set_gains(\n",
    "        self,\n",
    "        position_control_kp: list[float] | None = None,\n",
    "        velocity_control_kp: list[float] | None = None,\n",
    "        velocity_control_ki: list[float] | None = None,\n",
    "        pd_control_kp: list[float] | None = None,\n",
    "        pd_control_kd: list[float] | None = None,\n",
    "    ):\n",
    "    ...\n",
    "``` \n",
    "Where each of the arguments is a list of floats representing the gains for each joint. The gains are in the same order as the joints in the robot. For example, to set the position control gains kp for all joints to 1.0, you can run:\n",
    "\n",
    "```python\n",
    "client.set_gains(position_control_kp=[1.0]*32)\n",
    "```"
   ]
  },
  {
   "cell_type": "markdown",
   "metadata": {},
   "source": [
    "You can get the gains using the 'get_gains' method. \n",
    "\n",
    "Here's an example:"
   ]
  },
  {
   "cell_type": "code",
   "execution_count": null,
   "metadata": {},
   "outputs": [],
   "source": [
    "print(client.get_gains())"
   ]
  },
  {
   "cell_type": "markdown",
   "metadata": {},
   "source": [
    "### Moving joint positions\n",
    "\n",
    "After enabling the actuators, we can move the joints to a desired position using the `move_joints()` method.\n",
    "\n",
    "The method takes the following arguments:\n",
    "```python\n",
    "    def move_joints(\n",
    "        self,\n",
    "        group: ControlGroup | list | str,\n",
    "        positions: np.ndarray | list,\n",
    "        duration: float = 0.0,\n",
    "        degrees: bool = False,\n",
    "        blocking: bool = True,\n",
    "    ):\n",
    "```\n",
    "Args:\n",
    "    group (ControlGroup | list | str): The group of joints to move, specified by a string or a ControlGroup enum, or a list of joint indices.\n",
    "    positions (np.ndarray[float]): target joint position in degrees.\n",
    "    duration (float, optional): Time duration in seconds. If set to 0, the joints will move in their maximum speed without interpolation. Defaults to 0.0.\n",
    "    degrees (bool, optional): Whether the joint positions are in degrees. Defaults to False.\n",
    "    blocking (bool, optional): If True, block until the move is completed. Defaults to True.\n",
    "\n",
    "Here's some examples of moving the joints to a position:\n"
   ]
  },
  {
   "cell_type": "code",
   "execution_count": null,
   "metadata": {},
   "outputs": [],
   "source": [
    "\n",
    "client.move_joints(ControlGroup.LEFT_ARM, [0, 0, 0, 20, 0, 0, 0], duration=2, degrees=True)"
   ]
  },
  {
   "cell_type": "code",
   "execution_count": null,
   "metadata": {},
   "outputs": [],
   "source": [
    "client.move_joints([23, 24], [0.17, 0.17], degrees=False)"
   ]
  },
  {
   "cell_type": "code",
   "execution_count": null,
   "metadata": {},
   "outputs": [],
   "source": [
    "client.move_joints(\"left_arm\", [0, 0, 0, 20, 0, 0, 0], degrees=True)"
   ]
  }
 ],
 "metadata": {
  "kernelspec": {
   "display_name": ".venv",
   "language": "python",
   "name": "python3"
  },
  "language_info": {
   "codemirror_mode": {
    "name": "ipython",
    "version": 3
   },
   "file_extension": ".py",
   "mimetype": "text/x-python",
   "name": "python",
   "nbconvert_exporter": "python",
   "pygments_lexer": "ipython3",
   "version": "3.11.9"
  }
 },
 "nbformat": 4,
 "nbformat_minor": 2
}
